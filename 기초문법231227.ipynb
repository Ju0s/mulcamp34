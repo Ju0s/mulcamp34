{
  "nbformat": 4,
  "nbformat_minor": 0,
  "metadata": {
    "colab": {
      "provenance": [],
      "authorship_tag": "ABX9TyM6+N/SyAIazKN5DnasnhXl",
      "include_colab_link": true
    },
    "kernelspec": {
      "name": "python3",
      "display_name": "Python 3"
    },
    "language_info": {
      "name": "python"
    }
  },
  "cells": [
    {
      "cell_type": "markdown",
      "metadata": {
        "id": "view-in-github",
        "colab_type": "text"
      },
      "source": [
        "<a href=\"https://colab.research.google.com/github/Ju0s/mulcamp34/blob/main/%EA%B8%B0%EC%B4%88%EB%AC%B8%EB%B2%95231227.ipynb\" target=\"_parent\"><img src=\"https://colab.research.google.com/assets/colab-badge.svg\" alt=\"Open In Colab\"/></a>"
      ]
    },
    {
      "cell_type": "markdown",
      "source": [
        "# Chapter 3. 파이썬을 계산기처럼\n",
        "- 2015~2016년 이전: 국비교육 취업 (Java 웹개발, 안드로이드 앱개발)\n",
        "- 미국, 데이터 관련 얘기!\n",
        "- 2015년, 지도교수님, R을 공부 추천 (교수님 말 무시)\n",
        "--> 2016~2017년 알파고\n",
        "- 2017~2018년 국비교육: R 교육 매우 많음\n",
        "--> R이 분석용으로 매우 좋음 / 웹개발용으로 넘어가면 단점 부각\n",
        "- 회사에 가면, 여전히 수요는 웹이 높음\n",
        "\n",
        "- 파이썬이 왜 뜬 것이냐?\n",
        "--> 가장 큰 장점: 범용성\n",
        "--> 데이터분석, 간단한 프로그램, 앱개발, 보안 관련, 개임개발 가능\n",
        "--> 통계(X) / 머신러닝, 딥러닝 업계에서 요구하기 시작!"
      ],
      "metadata": {
        "id": "6NDTSIp1ohjr"
      }
    },
    {
      "cell_type": "markdown",
      "source": [
        "## 진로 관련 팁\n",
        "- 데이터 분석가: 기본 언어 Python, 현업(특히 의료기관)에서는 R 수요 높음(통계)\n",
        "- 개발자: 기본 언어 Python, 과정 수료 후, 장기적으로는 React, Java 등 다른 언어로 넘어가야 함"
      ],
      "metadata": {
        "id": "TVebYIXZqg1l"
      }
    },
    {
      "cell_type": "markdown",
      "source": [
        "## 사칙연산"
      ],
      "metadata": {
        "id": "NXd6iRHyrRl1"
      }
    },
    {
      "cell_type": "code",
      "source": [
        "1+1  # 정수"
      ],
      "metadata": {
        "colab": {
          "base_uri": "https://localhost:8080/"
        },
        "id": "FgQHNc5PrSxu",
        "outputId": "e052a2c0-de54-40ce-b348-56df3f41dda0"
      },
      "execution_count": 1,
      "outputs": [
        {
          "output_type": "execute_result",
          "data": {
            "text/plain": [
              "2"
            ]
          },
          "metadata": {},
          "execution_count": 1
        }
      ]
    },
    {
      "cell_type": "code",
      "source": [
        "5-2  # 정수 연산 결괏값은 정수로 반환"
      ],
      "metadata": {
        "colab": {
          "base_uri": "https://localhost:8080/"
        },
        "id": "eJehC-VurViX",
        "outputId": "aaff6a69-248a-4d1f-fff0-b9556ea4583b"
      },
      "execution_count": 2,
      "outputs": [
        {
          "output_type": "execute_result",
          "data": {
            "text/plain": [
              "3"
            ]
          },
          "metadata": {},
          "execution_count": 2
        }
      ]
    },
    {
      "cell_type": "code",
      "source": [
        "5 -2"
      ],
      "metadata": {
        "colab": {
          "base_uri": "https://localhost:8080/"
        },
        "id": "e39Lw0NjrYeN",
        "outputId": "5a33fec7-c453-4354-c9db-93c6676d39a3"
      },
      "execution_count": 3,
      "outputs": [
        {
          "output_type": "execute_result",
          "data": {
            "text/plain": [
              "3"
            ]
          },
          "metadata": {},
          "execution_count": 3
        }
      ]
    },
    {
      "cell_type": "code",
      "source": [
        "15*2"
      ],
      "metadata": {
        "colab": {
          "base_uri": "https://localhost:8080/"
        },
        "id": "4tq4Hkqkra71",
        "outputId": "7a3da881-8753-4422-8922-f4a522543273"
      },
      "execution_count": 4,
      "outputs": [
        {
          "output_type": "execute_result",
          "data": {
            "text/plain": [
              "30"
            ]
          },
          "metadata": {},
          "execution_count": 4
        }
      ]
    },
    {
      "cell_type": "code",
      "source": [
        "# 나눗셈\n",
        "# Python 3.x 버전은 실수로 처리\n",
        "# Python 2.x 버전은 정수로 처리\n",
        "10/2  # 정수 / 정수 => 반환값은 실수형으로 반환 (문법적 특징)"
      ],
      "metadata": {
        "colab": {
          "base_uri": "https://localhost:8080/"
        },
        "id": "F1QT0WRbrjWq",
        "outputId": "9b34d7f5-b587-4794-9ae3-933dad08bc85"
      },
      "execution_count": 6,
      "outputs": [
        {
          "output_type": "execute_result",
          "data": {
            "text/plain": [
              "5.0"
            ]
          },
          "metadata": {},
          "execution_count": 6
        }
      ]
    },
    {
      "cell_type": "markdown",
      "source": [
        "### 실수 연산"
      ],
      "metadata": {
        "id": "pPEaqmrCsVzt"
      }
    },
    {
      "cell_type": "code",
      "source": [
        "print(1+2)  # 웹개발, IDE 환경에서 코드 작성 시, print() 필수"
      ],
      "metadata": {
        "colab": {
          "base_uri": "https://localhost:8080/"
        },
        "id": "1hSDdbw_tM7j",
        "outputId": "54911760-f46b-4b10-cafc-428b0d0f0209"
      },
      "execution_count": 9,
      "outputs": [
        {
          "output_type": "stream",
          "name": "stdout",
          "text": [
            "3\n"
          ]
        }
      ]
    },
    {
      "cell_type": "code",
      "source": [
        "print(1.2+5.2)  # 덧셈\n",
        "print(3.4-2.8)  # 뺄셈\n",
        "print(9.3*1.2)  # 곱셈\n",
        "print(6.2/1.4)  # 나눗셈"
      ],
      "metadata": {
        "colab": {
          "base_uri": "https://localhost:8080/"
        },
        "id": "63vA773wrxcq",
        "outputId": "30c5b8d3-81ba-43c8-8320-2e2a5020a798"
      },
      "execution_count": 8,
      "outputs": [
        {
          "output_type": "stream",
          "name": "stdout",
          "text": [
            "6.4\n",
            "0.6000000000000001\n",
            "11.16\n",
            "4.428571428571429\n"
          ]
        }
      ]
    },
    {
      "cell_type": "markdown",
      "source": [
        "### 연산규칙\n",
        "- (1) 괄호 안 계산\n",
        "- (2) 지수 계산\n",
        "- (3) 곱셈과 나눗셈 계산\n",
        "- (4) 덧셈과 뺄셈 계산\n",
        "- (5) 같은 순위 연산이면, 왼쪽에서 오른쪽으로 계산\n",
        "- (6) 중복된 괄호가 있으면, 안쪽에서부터 계산"
      ],
      "metadata": {
        "id": "8chE7S0KtV8K"
      }
    },
    {
      "cell_type": "code",
      "source": [
        "print(2 + 3 * 4)"
      ],
      "metadata": {
        "colab": {
          "base_uri": "https://localhost:8080/"
        },
        "id": "d-aitFXmt1a-",
        "outputId": "797d49bd-4c84-4dc2-9db2-6b53e7f71234"
      },
      "execution_count": 11,
      "outputs": [
        {
          "output_type": "stream",
          "name": "stdout",
          "text": [
            "14\n"
          ]
        }
      ]
    },
    {
      "cell_type": "code",
      "source": [
        "print(3 / 2 * 4 - 5 / 2)"
      ],
      "metadata": {
        "colab": {
          "base_uri": "https://localhost:8080/"
        },
        "id": "dAiaZK8ot9gf",
        "outputId": "9ffaa41f-05ca-48bb-de23-727c6d6486b3"
      },
      "execution_count": 12,
      "outputs": [
        {
          "output_type": "stream",
          "name": "stdout",
          "text": [
            "3.5\n"
          ]
        }
      ]
    },
    {
      "cell_type": "code",
      "source": [
        "print((5 * 4 - 15) + ((5 - 2) * (9 - 7)))"
      ],
      "metadata": {
        "colab": {
          "base_uri": "https://localhost:8080/"
        },
        "id": "8qrzlj-HuPws",
        "outputId": "66e010e1-873e-45ed-9bf6-76ee2cb49857"
      },
      "execution_count": 13,
      "outputs": [
        {
          "output_type": "stream",
          "name": "stdout",
          "text": [
            "11\n"
          ]
        }
      ]
    },
    {
      "cell_type": "markdown",
      "source": [
        "## type()\n",
        "- 함수: 특정 기능을 수행하도록 만든 매직박스\n",
        "  + 특정함수를 조건만 맞춰주면 동작, 특정한 조건을 맞추지 못하면 에러 발생"
      ],
      "metadata": {
        "id": "TaJ4rnZcuw4K"
      }
    },
    {
      "cell_type": "markdown",
      "source": [
        "### 함수의 종류\n",
        "- 내장(built-in)함수: 파이썬 설치와 함께 제공하는 기본적인 함수\n",
        "  + print(), type()\n",
        "  + 종류가 몇 개인가요? (몰라요...)\n",
        "  + Documentation: 함수를 설명해주는 문서 보는 법 익히기 (영어)\n",
        "\n",
        "- 라이브러리에서 제공하는 함수\n",
        "  + R: 패키지, Python: 라이브러리\n",
        "  + 목적이 분명\n",
        "    - 웹사이트 개발: 웹사이트와 관련된 라이브러리를 별도로 설치\n",
        "    - 통계분석: 통계분석과 관련된 라이브러리를 별도로 설치\n",
        "    - 시각화: 시각화와 관련된 라이브러리를 별도로 설치\n",
        "    - 게임개발: 게임개발과 관련된 라이브러리를 별도로 설치\n",
        "    - 수치연산 주요라이브러리: numpy(중요), scipy\n"
      ],
      "metadata": {
        "id": "g9aC1PoGzrv3"
      }
    },
    {
      "cell_type": "code",
      "source": [
        "# 파이썬에서는 정수를 어떻게 표현할까?\n",
        "# 파이썬에서는 실수를 어떻게 표현할까?\n",
        "print(type(3))"
      ],
      "metadata": {
        "colab": {
          "base_uri": "https://localhost:8080/"
        },
        "id": "gzJPlBqGurF3",
        "outputId": "42a9c434-6551-4d23-f1cb-2ccc77966fbe"
      },
      "execution_count": 18,
      "outputs": [
        {
          "output_type": "stream",
          "name": "stdout",
          "text": [
            "<class 'int'>\n"
          ]
        }
      ]
    },
    {
      "cell_type": "code",
      "source": [
        "print(type(3.5))"
      ],
      "metadata": {
        "colab": {
          "base_uri": "https://localhost:8080/"
        },
        "id": "Zg7Nlmesu4Rs",
        "outputId": "7202d30e-302a-414e-cea4-ba1830f65e48"
      },
      "execution_count": 19,
      "outputs": [
        {
          "output_type": "stream",
          "name": "stdout",
          "text": [
            "<class 'float'>\n"
          ]
        }
      ]
    },
    {
      "cell_type": "markdown",
      "source": [
        "class가 나타나는 이유\n",
        "- 파이썬이 객체지향 언어이기 때문"
      ],
      "metadata": {
        "id": "EMDOQuiw1wLT"
      }
    },
    {
      "cell_type": "markdown",
      "source": [
        "## 거듭제곱과 나머지\n",
        "- 숫자 A를 n번 곱하는 거듭제곱(Power)\n",
        "  + A는 밑, n은 지수"
      ],
      "metadata": {
        "id": "Fp_ingvr2C-N"
      }
    },
    {
      "cell_type": "code",
      "source": [
        "print(2 * 2 * 2 * 2 * 2)"
      ],
      "metadata": {
        "colab": {
          "base_uri": "https://localhost:8080/"
        },
        "id": "hkPsuJam2Uuq",
        "outputId": "bd7ebb81-be37-4535-ca56-33a433f45eb0"
      },
      "execution_count": 22,
      "outputs": [
        {
          "output_type": "stream",
          "name": "stdout",
          "text": [
            "32\n"
          ]
        }
      ]
    },
    {
      "cell_type": "code",
      "source": [
        "print(2 ** 5)  # 거듭제곱"
      ],
      "metadata": {
        "colab": {
          "base_uri": "https://localhost:8080/"
        },
        "id": "fys3sgnL2aem",
        "outputId": "f1c7ddab-8bdb-4858-f732-fda7f1cdd6c9"
      },
      "execution_count": 23,
      "outputs": [
        {
          "output_type": "stream",
          "name": "stdout",
          "text": [
            "32\n"
          ]
        }
      ]
    },
    {
      "cell_type": "markdown",
      "source": [
        "- 나머지 구하는 방법"
      ],
      "metadata": {
        "id": "Kp4-gt2y2ou2"
      }
    },
    {
      "cell_type": "code",
      "source": [
        "13 % 5  # 나머지"
      ],
      "metadata": {
        "colab": {
          "base_uri": "https://localhost:8080/"
        },
        "id": "vcD25d-a2sku",
        "outputId": "63b92889-b051-4b13-bf93-0b1e5a927b26"
      },
      "execution_count": 24,
      "outputs": [
        {
          "output_type": "execute_result",
          "data": {
            "text/plain": [
              "3"
            ]
          },
          "metadata": {},
          "execution_count": 24
        }
      ]
    },
    {
      "cell_type": "code",
      "source": [
        "# 몫을 구하고 싶다면\n",
        "13 // 5"
      ],
      "metadata": {
        "colab": {
          "base_uri": "https://localhost:8080/"
        },
        "id": "AcHBA7vj2u2M",
        "outputId": "abb803c8-98bb-4498-8fad-e87a362cbc95"
      },
      "execution_count": 25,
      "outputs": [
        {
          "output_type": "execute_result",
          "data": {
            "text/plain": [
              "2"
            ]
          },
          "metadata": {},
          "execution_count": 25
        }
      ]
    },
    {
      "cell_type": "markdown",
      "source": [
        "- 교재 표 3-1(p.34), 산술연산자 표 정리 참고"
      ],
      "metadata": {
        "id": "GXqnd7CT29Kw"
      }
    },
    {
      "cell_type": "markdown",
      "source": [
        "## 과학적 표기법(scientific notation)\n",
        "- 아주 큰 수, 작은 수를 다뤄야 하는 케이스\n",
        "  + 빛은 초당 30만 km\n",
        "  + 단위를 m/s 표현하면, 3억 m/s\n",
        "  + 3x10^8"
      ],
      "metadata": {
        "id": "0-K4k56c3eNb"
      }
    },
    {
      "cell_type": "code",
      "source": [
        "print(3*10**8)"
      ],
      "metadata": {
        "colab": {
          "base_uri": "https://localhost:8080/"
        },
        "id": "2YF73cP94Pyc",
        "outputId": "6d667c30-fc5f-4717-a27f-e95777739d3b"
      },
      "execution_count": 26,
      "outputs": [
        {
          "output_type": "stream",
          "name": "stdout",
          "text": [
            "300000000\n"
          ]
        }
      ]
    },
    {
      "cell_type": "code",
      "source": [
        "print(3e8)  # 과학적 표기법"
      ],
      "metadata": {
        "colab": {
          "base_uri": "https://localhost:8080/"
        },
        "id": "40YAt0Fm4S4X",
        "outputId": "fb4e60d8-7341-4a57-8187-ab7a82fcdcb0"
      },
      "execution_count": 28,
      "outputs": [
        {
          "output_type": "stream",
          "name": "stdout",
          "text": [
            "300000000.0\n"
          ]
        }
      ]
    },
    {
      "cell_type": "code",
      "source": [
        "print(3e-4)"
      ],
      "metadata": {
        "colab": {
          "base_uri": "https://localhost:8080/"
        },
        "id": "PrY5YrhN4ikD",
        "outputId": "70d3365c-0b32-4828-931d-4ef95e74ebad"
      },
      "execution_count": 30,
      "outputs": [
        {
          "output_type": "stream",
          "name": "stdout",
          "text": [
            "0.0003\n"
          ]
        }
      ]
    },
    {
      "cell_type": "code",
      "source": [
        "print(1e-4)"
      ],
      "metadata": {
        "colab": {
          "base_uri": "https://localhost:8080/"
        },
        "id": "95yIsCQu4rBg",
        "outputId": "e466cee0-4103-4895-8060-4639c86b94cf"
      },
      "execution_count": 31,
      "outputs": [
        {
          "output_type": "stream",
          "name": "stdout",
          "text": [
            "0.0001\n"
          ]
        }
      ]
    },
    {
      "cell_type": "markdown",
      "source": [
        "## 진수 표현과 변환\n",
        "- 우리는 일상생활에서 10진법을 많이 사용한다고 생각하지만, 엄밀히 말하면 다양한 진법을 사용함\n",
        "  + 60초가 1분이고, 60분이 1시간 --> 60진법\n",
        "  + 오전 12시간, 오후 12시간, 1년 12달  --> 12진법\n",
        "- 컴퓨터 프로그래밍: 숫자 0과 1 이용 --> 2진법\n",
        "- 8진법: 0~7까지의 숫자\n",
        "- 16진법: 0~9, a~f\n",
        "- 메서드\n",
        "  + bin(): 10진수를 2진수로 변환\n",
        "  + oct(): 10진수를 8진수로 변환\n",
        "  + hex(): 10진수를 16진수로 변환"
      ],
      "metadata": {
        "id": "Xfc9xe455UEL"
      }
    },
    {
      "cell_type": "code",
      "source": [
        "17  # 10진법"
      ],
      "metadata": {
        "colab": {
          "base_uri": "https://localhost:8080/"
        },
        "id": "O5k4fiB16KVG",
        "outputId": "1d6161c9-4829-450b-978a-e3e9c5f8a716"
      },
      "execution_count": 32,
      "outputs": [
        {
          "output_type": "execute_result",
          "data": {
            "text/plain": [
              "17"
            ]
          },
          "metadata": {},
          "execution_count": 32
        }
      ]
    },
    {
      "cell_type": "code",
      "source": [
        "0b10001  # 2진법"
      ],
      "metadata": {
        "colab": {
          "base_uri": "https://localhost:8080/"
        },
        "id": "VWbK7J706NGq",
        "outputId": "13114b6d-f5db-4170-a043-a224548d2421"
      },
      "execution_count": 33,
      "outputs": [
        {
          "output_type": "execute_result",
          "data": {
            "text/plain": [
              "17"
            ]
          },
          "metadata": {},
          "execution_count": 33
        }
      ]
    },
    {
      "cell_type": "code",
      "source": [
        "0o21  # 8진법"
      ],
      "metadata": {
        "colab": {
          "base_uri": "https://localhost:8080/"
        },
        "id": "abFEgGZn6TiO",
        "outputId": "33473af9-748b-4dc3-e9ac-6277253ce4d8"
      },
      "execution_count": 34,
      "outputs": [
        {
          "output_type": "execute_result",
          "data": {
            "text/plain": [
              "17"
            ]
          },
          "metadata": {},
          "execution_count": 34
        }
      ]
    },
    {
      "cell_type": "code",
      "source": [
        "0x11  # 16진법"
      ],
      "metadata": {
        "colab": {
          "base_uri": "https://localhost:8080/"
        },
        "id": "kx65duUU6a-r",
        "outputId": "0daf1341-7c37-4434-991b-41f1689035d8"
      },
      "execution_count": 35,
      "outputs": [
        {
          "output_type": "execute_result",
          "data": {
            "text/plain": [
              "17"
            ]
          },
          "metadata": {},
          "execution_count": 35
        }
      ]
    },
    {
      "cell_type": "markdown",
      "source": [
        "## 논리 연산 및 비교 연산 (매우 중요)\n",
        "- 참/거짓\n",
        "- 논리 연산을 잘 활용하는 것이 프로그래밍의 핵심"
      ],
      "metadata": {
        "id": "4dMTs59L7HM9"
      }
    },
    {
      "cell_type": "code",
      "source": [
        "print(True)"
      ],
      "metadata": {
        "colab": {
          "base_uri": "https://localhost:8080/"
        },
        "id": "9-iC2MoE74m9",
        "outputId": "d55d90ea-c5d9-4c38-8901-48f0e851f30b"
      },
      "execution_count": 36,
      "outputs": [
        {
          "output_type": "stream",
          "name": "stdout",
          "text": [
            "True\n"
          ]
        }
      ]
    },
    {
      "cell_type": "code",
      "source": [
        "print(False)"
      ],
      "metadata": {
        "colab": {
          "base_uri": "https://localhost:8080/"
        },
        "id": "1r-fGwIl76TK",
        "outputId": "2e3e2838-81a1-4e1b-fec8-2d03039ca5cb"
      },
      "execution_count": 37,
      "outputs": [
        {
          "output_type": "stream",
          "name": "stdout",
          "text": [
            "False\n"
          ]
        }
      ]
    },
    {
      "cell_type": "code",
      "source": [
        "print(type(True))"
      ],
      "metadata": {
        "colab": {
          "base_uri": "https://localhost:8080/"
        },
        "id": "lUqDI3ez77k1",
        "outputId": "f9a106f0-5a9f-487b-d971-74903506bb95"
      },
      "execution_count": 38,
      "outputs": [
        {
          "output_type": "stream",
          "name": "stdout",
          "text": [
            "<class 'bool'>\n"
          ]
        }
      ]
    },
    {
      "cell_type": "markdown",
      "source": [
        "### 논리 연산자\n",
        "- and(A and B): A와 B 모두 참일 때 참\n",
        "- or(A or B): A와 B 중에서 하나라도 참이면 참, 둘 다 거짓일 때 거짓\n",
        "- not(not A): A가 참일 때 거짓, A가 거짓이면 참"
      ],
      "metadata": {
        "id": "RC3zBNqO8TG2"
      }
    },
    {
      "cell_type": "code",
      "source": [
        "# 교집합\n",
        "# True 또는 False 결과가 나오도록 조건식을 작성해야 함\n",
        "print(True and True)\n",
        "print(True and False)\n",
        "print(False and True)\n",
        "print(False and False)"
      ],
      "metadata": {
        "colab": {
          "base_uri": "https://localhost:8080/"
        },
        "id": "8_zU8MiWBRuI",
        "outputId": "b5248784-eda9-4eb0-ca4c-2285a123d15d"
      },
      "execution_count": 42,
      "outputs": [
        {
          "output_type": "stream",
          "name": "stdout",
          "text": [
            "True\n",
            "False\n",
            "False\n",
            "False\n"
          ]
        }
      ]
    },
    {
      "cell_type": "code",
      "source": [
        "# 합집합\n",
        "print(True or True)\n",
        "print(True or False)\n",
        "print(False or True)\n",
        "print(False or False)"
      ],
      "metadata": {
        "colab": {
          "base_uri": "https://localhost:8080/"
        },
        "id": "BSiFS-CtBV2x",
        "outputId": "8e4fd27c-a15e-4083-f40f-404f75c7bd65"
      },
      "execution_count": 44,
      "outputs": [
        {
          "output_type": "stream",
          "name": "stdout",
          "text": [
            "True\n",
            "True\n",
            "True\n",
            "False\n"
          ]
        }
      ]
    },
    {
      "cell_type": "code",
      "source": [
        "print(not True)\n",
        "print(not False)"
      ],
      "metadata": {
        "colab": {
          "base_uri": "https://localhost:8080/"
        },
        "id": "X6uWaDPZBpd6",
        "outputId": "1e15be3c-2ec2-49f8-b60c-6de6636c70cd"
      },
      "execution_count": 45,
      "outputs": [
        {
          "output_type": "stream",
          "name": "stdout",
          "text": [
            "False\n",
            "True\n"
          ]
        }
      ]
    },
    {
      "cell_type": "markdown",
      "source": [
        "### 비교연산자"
      ],
      "metadata": {
        "id": "Dv6-qIbCCZtb"
      }
    },
    {
      "cell_type": "code",
      "source": [
        "# True 또는 False 결과가 나오도록 \"의도적\"으로 조건식을 작성해야 함\n",
        "print(1 == 1)  # a와 b가 같다\n",
        "print(1 == 2)"
      ],
      "metadata": {
        "colab": {
          "base_uri": "https://localhost:8080/"
        },
        "id": "B83sh0WhCb3L",
        "outputId": "822f84a5-c0ef-4d6f-c9b5-7308145f1bc1"
      },
      "execution_count": 47,
      "outputs": [
        {
          "output_type": "stream",
          "name": "stdout",
          "text": [
            "True\n",
            "False\n"
          ]
        }
      ]
    },
    {
      "cell_type": "code",
      "source": [
        "print(1 != 2)  # a와 b는 같지 않다"
      ],
      "metadata": {
        "colab": {
          "base_uri": "https://localhost:8080/"
        },
        "id": "UxVtmydjDD85",
        "outputId": "8ceb5166-3a10-4a0e-c1a3-5a8677e82110"
      },
      "execution_count": 49,
      "outputs": [
        {
          "output_type": "stream",
          "name": "stdout",
          "text": [
            "True\n"
          ]
        }
      ]
    },
    {
      "cell_type": "code",
      "source": [
        "print(1 <= 2)  # a는 b보다 작거나 같다"
      ],
      "metadata": {
        "colab": {
          "base_uri": "https://localhost:8080/"
        },
        "id": "d6b2ywQUDPCZ",
        "outputId": "4de15b1b-27f5-4fdb-ea44-52bf8b26ece6"
      },
      "execution_count": 48,
      "outputs": [
        {
          "output_type": "stream",
          "name": "stdout",
          "text": [
            "True\n"
          ]
        }
      ]
    },
    {
      "cell_type": "code",
      "source": [
        "print(1 < 2)  # a가 b보다 작다"
      ],
      "metadata": {
        "colab": {
          "base_uri": "https://localhost:8080/"
        },
        "id": "aRXPqeq6DT7g",
        "outputId": "7c293c25-299d-4045-bf79-ab13fd7debbb"
      },
      "execution_count": 50,
      "outputs": [
        {
          "output_type": "stream",
          "name": "stdout",
          "text": [
            "True\n"
          ]
        }
      ]
    },
    {
      "cell_type": "code",
      "source": [
        "print(1 >= 2)  # a가 b보다 크거나 같다"
      ],
      "metadata": {
        "colab": {
          "base_uri": "https://localhost:8080/"
        },
        "id": "opFzUR01DX9L",
        "outputId": "05a92ec4-ef5b-42e5-c92d-6ced39006490"
      },
      "execution_count": 51,
      "outputs": [
        {
          "output_type": "stream",
          "name": "stdout",
          "text": [
            "False\n"
          ]
        }
      ]
    },
    {
      "cell_type": "code",
      "source": [
        "print(1 > 2)  # a가 b보다 크다"
      ],
      "metadata": {
        "colab": {
          "base_uri": "https://localhost:8080/"
        },
        "id": "77xiEgarDfKm",
        "outputId": "419416e4-c531-4dc9-c371-22c25f351b1a"
      },
      "execution_count": 52,
      "outputs": [
        {
          "output_type": "stream",
          "name": "stdout",
          "text": [
            "False\n"
          ]
        }
      ]
    },
    {
      "cell_type": "markdown",
      "source": [
        "## 비교연산자 + 논리연산자"
      ],
      "metadata": {
        "id": "U7RACQpaD6zp"
      }
    },
    {
      "cell_type": "code",
      "source": [
        "print(1 > 0 and -2 < 0)  # 비교연산자오(1순위), 논리연산자(2순위)"
      ],
      "metadata": {
        "colab": {
          "base_uri": "https://localhost:8080/"
        },
        "id": "el2h0tAmD9xb",
        "outputId": "2abf7d8f-e063-46b5-983c-36d1e4f036d3"
      },
      "execution_count": 53,
      "outputs": [
        {
          "output_type": "stream",
          "name": "stdout",
          "text": [
            "True\n"
          ]
        }
      ]
    },
    {
      "cell_type": "code",
      "source": [
        "# 괄호 안이 먼저 연산\n",
        "print(((3 < 0) and (-5 > 0)) and (1 > 5))"
      ],
      "metadata": {
        "colab": {
          "base_uri": "https://localhost:8080/"
        },
        "id": "xNEGhI52Eagw",
        "outputId": "31451e26-3222-4adc-d8ee-ae020b8ad908"
      },
      "execution_count": 55,
      "outputs": [
        {
          "output_type": "stream",
          "name": "stdout",
          "text": [
            "False\n"
          ]
        }
      ]
    },
    {
      "cell_type": "markdown",
      "source": [
        "# Chapter 4. 변수와 자료형"
      ],
      "metadata": {
        "id": "sZEDcjuTolqE"
      }
    },
    {
      "cell_type": "code",
      "execution_count": null,
      "metadata": {
        "id": "B6WfFZ-wnwnr"
      },
      "outputs": [],
      "source": []
    }
  ]
}